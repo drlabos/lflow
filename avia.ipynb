{
 "cells": [
  {
   "cell_type": "markdown",
   "metadata": {},
   "source": [
    "## Задача оптимизации площади взлетно-посадочной полосы\n",
    "Рассматривается задача минимизации проектной площади взлетно-посадочной полосы при ограничении на вероятность успешной посадки.\n",
    "Под случайным внешним воздействием подразумевается смещение летательного аппарата (ЛА) относительно расчетной точки под воздействием ветра."
   ]
  },
  {
   "cell_type": "markdown",
   "metadata": {},
   "source": [
    "Обозначения:\n",
    "\n",
    "$l_0$ - длина пробега ЛА по ВПП до полной остановки\n",
    "\n",
    "$l_1$ - запас по длиней ВПП на случай недолета до расчетной точки\n",
    "\n",
    "$l_2$ - запас по длиней ВПП на случай перелета расчетной точки\n",
    "\n",
    "$z_1$ - полуширина полосы\n",
    "\n",
    "Тогда площадь ВПП будет определяться соотношением\n",
    "$$\n",
    "S = 2z_1(l_0+l_1+l_2)\n",
    "$$\n",
    "\n",
    "В расчетах использованы такие значения параметров:\n",
    "\n",
    "$a_{11}=a_{12}=-20$, $a_{22}=3$, $l_0=1500$"
   ]
  },
  {
   "cell_type": "markdown",
   "metadata": {},
   "source": [
    "### Модель случайных возмущений\n",
    "Пусть $X$ и $Z$ случайные отклонения от расчетной точки касания ВПП вдоль и поперек полосы соотетственно. Эти отклонения связаны с компонентами скорости ветра $W_x$ $W_z$\n",
    "$$\n",
    "X = a_{11}W_x + a_{12}|W_z|, Z = a_{22}W_z\n",
    "$$\n",
    "$W_x, W_z$ - независимые гауссовские случайные величины\n",
    "$$\n",
    "E(W_x) = m_x, E(W_z) = m_z, D(W_x) = \\sigma^2_x, D(W_z) = \\sigma^2_z\n",
    "$$\n",
    "В расчетах использованы значения $\\sigma_x=\\sigma_z=5$, математические ожидания равны 0."
   ]
  },
  {
   "cell_type": "markdown",
   "metadata": {},
   "source": [
    "## Критерий успешной посадки\n",
    "Посадка считается успешной, если\n",
    "$$\n",
    "-l_1\\le X\\le l_2, |Z|\\le z_1\n",
    "$$"
   ]
  },
  {
   "cell_type": "markdown",
   "metadata": {},
   "source": [
    "## Итоговая задача оптимизации\n",
    "Для оптимизации будет использоваться градиентный спуск. Он чувствителен к масштабу параметров, получим большой перекос в сторону сужения ширины полосы. Вместо этого перейдем к логарифму площади.\n",
    "$$\n",
    "ln(z_1) + ln(l_0+l_1+l_2) \\to \\min\n",
    "$$\n",
    "При ограничении\n",
    "$$\n",
    "P(-l_1\\le X\\le l_2, |Z|\\le z_1) \\ge \\alpha\n",
    "$$\n",
    "Для расчетов $\\alpha$ полагалась равной 0.99"
   ]
  },
  {
   "cell_type": "code",
   "execution_count": 18,
   "metadata": {},
   "outputs": [],
   "source": [
    "from LFlow.stochastic_model import IndependentGenerator, MultivariateGaussGenerator, stats\n",
    "from LFlow.labos_flow_v2 import LabFunc, np, plt, LabSigmoid, LabLog, Identity\n",
    "from LFlow.labos_point import Point\n",
    "#np.seterr(all='ignore')\n",
    "\n",
    "alpha = 0.99\n",
    "max_iter = 150\n",
    "step = 100#0.01\n",
    "penalty = 10\n",
    "\n",
    "base_point = Point({'a1' : -20, 'a2' : -20, 'a3' : 3})\n",
    "\n",
    "l1 = Identity('l1')\n",
    "l2 = Identity('l2')\n",
    "z1 = Identity('z1')\n",
    "\n",
    "# take logarithm of halved area\n",
    "area = LabLog(2*l1+2*l2) + LabLog(z1)\n",
    "X = LabFunc('a1*Wx + a2*np.abs(Wz)', derivatives={'a1' : 'Wx', 'a2' : 'np.abs(Wz)'}, args=['a1', 'a2', 'Wx', 'Wz'])\n",
    "Z = LabFunc('a3*np.abs(Wz)', derivatives={'a3' : 'np.abs(Wz)'}, args=['a3', 'Wz'])\n",
    "\n",
    "# to compare with original solution\n",
    "u1 = l1/l2\n",
    "u2 = 0.5*(1500 + l1 + l2)/z1\n",
    "S = 2*(1500 + l1 + l2)*z1\n",
    "\n",
    "# must be positive\n",
    "theta=10\n",
    "cond1 = LabSigmoid((X+l1)*(l2-X), theta=theta)\n",
    "cond2 = LabSigmoid((z1**2) - (Z**2), theta=theta)\n",
    "total_cond = cond1*cond2\n",
    "\n",
    "start_point = base_point.expand(Point({'l1' : 600, 'l2' : 300, 'z1' : 60}))\n",
    "\n",
    "sm = MultivariateGaussGenerator(['Wx', 'Wz'], cov=[[25, 0], [0, 25]])\n",
    "sample_points, sample_dicts = sm.rvs(5000)"
   ]
  },
  {
   "cell_type": "markdown",
   "metadata": {},
   "source": [
    "Находим стартовую точку"
   ]
  },
  {
   "cell_type": "code",
   "execution_count": 19,
   "metadata": {},
   "outputs": [],
   "source": [
    "cond_mean, cond_gradient = sm.papa_carlo(total_cond, start_point, sample_dicts, derivs = ['l1', 'l2', 'z1'])\n",
    "while cond_mean < alpha + 0.5*(1-alpha):\n",
    "    \"\"\"\n",
    "    update start point\n",
    "    0.5*(1-alpha) used to dive deeper in region\n",
    "    \"\"\"\n",
    "    print(cond_mean)\n",
    "    start_point['l1'] = start_point['l1'] + 1\n",
    "    start_point['l2'] = start_point['l2'] + 1\n",
    "    start_point['z1'] = start_point['z1'] + 1\n",
    "    \n",
    "    cond_mean, cond_gradient = sm.papa_carlo(total_cond, start_point, sample_dicts, derivs = ['l1', 'l2', 'z1'])\n",
    "    \n",
    "crit = area(start_point)\n",
    "crit_gradient = area.deriv(start_point)"
   ]
  },
  {
   "cell_type": "code",
   "execution_count": 20,
   "metadata": {},
   "outputs": [
    {
     "name": "stdout",
     "output_type": "stream",
     "text": [
      "step 0\n",
      "l1 600.0 l2 300.0 z1 60.0 area 2.88e+05 prob 1.000\n",
      "step 20\n",
      "l1 597.8 l2 297.8 z1 39.2 area 1.88e+05 prob 0.990\n",
      "step 40\n",
      "l1 595.6 l2 295.6 z1 39.2 area 1.87e+05 prob 0.990\n",
      "step 60\n",
      "l1 593.3 l2 293.3 z1 39.2 area 1.87e+05 prob 0.990\n",
      "step 80\n",
      "l1 591.1 l2 291.1 z1 39.2 area 1.87e+05 prob 0.990\n",
      "step 100\n",
      "l1 588.8 l2 288.8 z1 39.2 area 1.86e+05 prob 0.990\n",
      "step 120\n",
      "l1 586.5 l2 286.5 z1 39.2 area 1.86e+05 prob 0.990\n",
      "step 140\n",
      "l1 584.2 l2 284.2 z1 39.2 area 1.86e+05 prob 0.990\n",
      "finish\n",
      "l1 583.1 l2 283.1 z1 39.2 area 1.85e+05\n",
      "u1 2.060\n",
      "u2 30.189\n"
     ]
    }
   ],
   "source": [
    "opt_crit = crit\n",
    "opt_point = start_point\n",
    "for i in range(max_iter):\n",
    "    if i % 20 == 0:\n",
    "        print('step {}'.format(i))\n",
    "        print('l1 {:.1f} l2 {:.1f} z1 {:.1f} area {:.2e} prob {:.3f}'.format(start_point['l1'],\n",
    "                                                                             start_point['l2'],\n",
    "                                                                             start_point['z1'],\n",
    "                                                                             S(start_point), cond_mean))\n",
    "\n",
    "    if start_point['z1'] - step*crit_gradient['z1'] < 0:\n",
    "        factor = abs(0.5*start_point['z1']/(step*crit_gradient['z1']))\n",
    "    else:\n",
    "        factor = 1\n",
    "    \"\"\"\n",
    "    dz1 cannot exceed 2, just because i want it..\n",
    "    the derivative with respect to z1 is always big\n",
    "    \"\"\"\n",
    "    factor = min(factor, 2/(abs(step*factor*crit_gradient['z1'])))\n",
    "    cond_mean, cond_grad = sm.papa_carlo(total_cond, start_point - step*factor*crit_gradient, sample_dicts, derivs=['l1', 'l2', 'z1'])\n",
    "    if cond_mean < alpha:\n",
    "        factor = 0.8*factor\n",
    "        cond_mean, cond_grad = sm.papa_carlo(total_cond, start_point - step*factor*crit_gradient, sample_dicts, derivs=['l1', 'l2', 'z1'])\n",
    "        if cond_mean > alpha:\n",
    "            start_point = start_point - step*factor*crit_gradient\n",
    "        else:\n",
    "            \"\"\"\n",
    "            gradient projection\n",
    "            \"\"\"\n",
    "            direction = crit_gradient - cond_grad*cond_grad.cos(crit_gradient)*crit_gradient.norm()/cond_grad.norm()\n",
    "            start_point = start_point - step*direction\n",
    "            cond_mean, cond_grad = sm.papa_carlo(total_cond, start_point, sample_dicts, derivs=['l1', 'l2', 'z1'])\n",
    "            while cond_mean < alpha:\n",
    "                \"\"\"\n",
    "                если после шага вдоль ограничений попали вне допустимой области\n",
    "                \"\"\"\n",
    "                start_point = start_point + factor*cond_grad\n",
    "                cond_mean, cond_grad = sm.papa_carlo(total_cond, start_point, sample_dicts, derivs=['l1', 'l2', 'z1'])\n",
    "    else:\n",
    "        start_point = start_point - step*factor*crit_gradient\n",
    "    crit = area(start_point)\n",
    "    crit_gradient = area.deriv(start_point)\n",
    "    if crit < opt_crit:\n",
    "        opt_crit = crit\n",
    "        opt_point = Point(start_point.dict.copy())\n",
    "print('finish')\n",
    "print('l1 {:.1f} l2 {:.1f} z1 {:.1f} area {:.2e}'.format(opt_point['l1'], opt_point['l2'], opt_point['z1'], S(opt_point)))\n",
    "print('u1 {:.3f}'.format(u1(opt_point)))\n",
    "print('u2 {:.3f}'.format(u2(opt_point)))"
   ]
  },
  {
   "cell_type": "code",
   "execution_count": null,
   "metadata": {},
   "outputs": [],
   "source": []
  }
 ],
 "metadata": {
  "kernelspec": {
   "display_name": "Python 3",
   "language": "python",
   "name": "python3"
  },
  "language_info": {
   "codemirror_mode": {
    "name": "ipython",
    "version": 3
   },
   "file_extension": ".py",
   "mimetype": "text/x-python",
   "name": "python",
   "nbconvert_exporter": "python",
   "pygments_lexer": "ipython3",
   "version": "3.7.1"
  }
 },
 "nbformat": 4,
 "nbformat_minor": 2
}
