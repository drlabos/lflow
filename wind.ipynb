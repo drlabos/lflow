{
 "cells": [
  {
   "cell_type": "markdown",
   "metadata": {},
   "source": [
    "# Построение множества допустимых значений скорости ветра\n",
    "Предполагается, что перед вылетом самолета из города N в город M, метеослужба проводит измерение продольной и боковой скорости ветра в аэропорту прилета. По этим измерениям принимается решение о вылете самолета или задержке рейса, при этом за время полета ветер может измениться.\n",
    "\n",
    "Задача исследуется в полярных координатах. Введем обозначения\n",
    "\n",
    "$v_0$ - скорость ветра в начальный момент времени\n",
    "\n",
    "$\\beta_0$ - направление ветра (в радианах) в начальный момент времени\n",
    "\n",
    "$\\xi$ - изменение скорости ветра по абсолютной величине\n",
    "\n",
    "$\\eta$ - изменение направления ветра (в радианах)\n",
    "\n",
    "$w_x^{max}$ - максимально допустимая скорость попутного ветра (ну или встречного)\n",
    "\n",
    "$w_x^{min}$ - максимально допустимая скорость встречного ветра (ну или попутного, соответственно(\n",
    "\n",
    "$w_z^{max}$ - максимально допустимая скорость ветра в направлении поперек ВПП\n",
    "\n",
    "Связь между начальной и конечной скоростью и направлением ветра\n",
    "\n",
    "\\begin{gather}\n",
    "W_x^t = (v_0+\\xi)cos(\\beta_0+\\eta),\\\\\n",
    "W_z^t = (v_0+\\xi)sin(\\beta_0+\\eta)\n",
    "\\end{gather}\n",
    "\n",
    "Самолет при подлете к аэропорту назначения получит разрешение на посадку если выполнено условие\n",
    "$$\n",
    "|W_z^t| \\le w_z^{max}, w_x^{min} \\le W_x^t \\le w_x^{max}\n",
    "$$\n",
    "Необходимо определить множество скоростей и направлений ветра в момент вылета, при которых разрешение на посадку будет получено с вероятностью не меньше заданной\n"
   ]
  },
  {
   "cell_type": "markdown",
   "metadata": {},
   "source": [
    "## Ход решения\n",
    "Сперва находим начальную точку - максимально допустимую скорость ветра, при которой будет дано разрешение на вылет, если  $\\beta_0 = 0$. Далее поворачиваем вектор скорости с заданным шагом $\\Delta\\beta$ и находим изменение его скорости $\\Delta v$, при которой вероятность останется неизменной.\n",
    "$$\n",
    "P(v_0, \\beta_0) = P(|W_z^t| \\le w_z^{max}, w_x^{min} \\le W_x^t \\le w_x^{max})\n",
    "$$\n",
    "Условие\n",
    "$$\n",
    "\\frac{\\partial}{\\partial \\beta_0}P(v_0, \\beta_0)\\Delta\\beta + \\frac{\\partial}{\\partial v_0}P(v_0, \\beta_0)\\Delta v = 0\n",
    "$$"
   ]
  },
  {
   "cell_type": "code",
   "execution_count": 11,
   "metadata": {},
   "outputs": [],
   "source": [
    "# setup\n",
    "from LFlow.stochastic_model import IndependentGenerator, MultivariateGaussGenerator, stats\n",
    "from LFlow.labos_flow_v2 import LabFunc, np, plt, LabSigmoid, Identity, LabArctg, LabCos, LabSin\n",
    "from LFlow.labos_point import Point\n",
    "np.seterr(all='ignore')\n",
    "\n",
    "sigma_xi = 1.9\n",
    "sigma_eta = 27*np.pi/180\n",
    "alpha = 0.99\n",
    "wz_max = 15\n",
    "wx_min = -25\n",
    "wx_max = 10\n",
    "step = 0.005"
   ]
  },
  {
   "cell_type": "code",
   "execution_count": 12,
   "metadata": {},
   "outputs": [],
   "source": [
    "sm = IndependentGenerator(['xi', 'eta'], [stats.norm(scale=sigma_xi), stats.norm(scale=sigma_eta)])\n",
    "_, sample = sm.rvs(10000)\n",
    "\n",
    "v0 = Identity('v0')\n",
    "beta0 = Identity('beta0')\n",
    "\n",
    "w0x = v0*LabCos(beta0)\n",
    "w0z = v0*LabSin(beta0)\n",
    "xi = Identity('xi')\n",
    "eta = Identity('eta')\n",
    "\n",
    "\n",
    "Wx = (v0 + xi)*LabCos(beta0 + eta)\n",
    "Wz = (v0 + xi)*LabSin(beta0 + eta)\n",
    "\n",
    "cond1 = LabSigmoid(wz_max**2 - Wz**2, theta=12)\n",
    "cond2 = LabSigmoid((Wx - wx_min)*(wx_max - Wx), theta=12)\n",
    "total_cond = cond1*cond2"
   ]
  },
  {
   "cell_type": "code",
   "execution_count": 10,
   "metadata": {},
   "outputs": [
    {
     "name": "stdout",
     "output_type": "stream",
     "text": [
      "Start point: \n",
      "{'v0': 6.18896484375, 'beta0': 0.0}\n",
      ".............................................................................................................................."
     ]
    },
    {
     "data": {
      "image/png": "[encoded data removed]",
      "text/plain": [
       "<Figure size 432x288 with 1 Axes>"
      ]
     },
     "metadata": {
      "needs_background": "light"
     },
     "output_type": "display_data"
    }
   ],
   "source": [
    "points = []\n",
    "colors = [] #blue for points with p>alpha, else red\n",
    "probs = []\n",
    "\"\"\"\n",
    "методом дихотомии ищем начальную точку с нулевой координатой w0z\n",
    "\"\"\"\n",
    "pnt1 = Point({'v0' : 0, 'beta0' : 0})\n",
    "pnt2 = Point({'v0' : 30, 'beta0' : 0})\n",
    "p1 = sm.papa_carlo(total_cond, pnt1, sample)\n",
    "p2 = sm.papa_carlo(total_cond, pnt2, sample)\n",
    "pmid = sm.papa_carlo(total_cond, 0.5*(pnt1+pnt2), sample)\n",
    "while (pnt1-pnt2).norm() > 0.025:\n",
    "    if pmid > alpha:\n",
    "        pnt1 = 0.5*(pnt1+pnt2)\n",
    "    else:\n",
    "        pnt2 = 0.5*(pnt1+pnt2)\n",
    "    pmid = sm.papa_carlo(total_cond, 0.5*(pnt1+pnt2), sample)\n",
    "start_point = 0.5*(pnt1+pnt2)\n",
    "points.append(Point({'w0x' : w0x(start_point), 'w0z' : w0z(start_point)}))\n",
    "colors.append([0.5, 0.5, 1])\n",
    "print('Start point: ')\n",
    "print(start_point)\n",
    "\"\"\"\n",
    "теперь собираем точки на границе области допустимых скоростей\n",
    "при построении полагаем, что должна получатся выпуклая область типа эллипса,\n",
    "то есть уменьшение по модулю одной координаты должно увеличивать диапазон для другой\n",
    "\"\"\"\n",
    "cur_point = Point(start_point.dict.copy())\n",
    "p, grad = sm.papa_carlo(total_cond, cur_point, sample, derivs = ['v0', 'beta0']) \n",
    "for i, beta0i in enumerate(np.arange(0, 2*np.pi, step)):\n",
    "    probs.append(p)\n",
    "    cur_point['beta0'] = beta0i\n",
    "    cur_point['v0'] -= step*grad['beta0']/grad['v0']\n",
    "    p, grad = sm.papa_carlo(total_cond, cur_point, sample, derivs = ['v0', 'beta0']) \n",
    "    points.append(Point({'w0x' : w0x(cur_point), 'w0z' : w0z(cur_point)}))\n",
    "    if p >= alpha - 0.02*alpha:\n",
    "        colors.append([0.5, 0.5, 1])\n",
    "    else:\n",
    "        colors.append([1, 0, 0])\n",
    "    if i % 10 == 0:\n",
    "        print('.', end='')\n",
    "\n",
    "sm.visualize(points, args=['w0x', 'w0z'], colors=colors)"
   ]
  },
  {
   "cell_type": "code",
   "execution_count": null,
   "metadata": {},
   "outputs": [],
   "source": []
  }
 ],
 "metadata": {
  "kernelspec": {
   "display_name": "Python 3",
   "language": "python",
   "name": "python3"
  },
  "language_info": {
   "codemirror_mode": {
    "name": "ipython",
    "version": 3
   },
   "file_extension": ".py",
   "mimetype": "text/x-python",
   "name": "python",
   "nbconvert_exporter": "python",
   "pygments_lexer": "ipython3",
   "version": "3.7.1"
  }
 },
 "nbformat": 4,
 "nbformat_minor": 2
}
