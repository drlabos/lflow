{
 "cells": [
  {
   "cell_type": "markdown",
   "metadata": {},
   "source": [
    "# Про функции и точки\n",
    "Класс LabFunc представляет обертку над функциями с их производными. Между функциями, а также парой функция-число, можно выполнять любые арифметические операции: сложение, вычитание, умножение, деление, возведение в степень. Результатом операции является новый объект LabFun.\n",
    "\n",
    "Варианты определения функций:\n",
    "\n",
    "1. В конструктор передается выполняемая строка (скармливается потом в eval), словарь с производными: \n",
    "ключ - имя переменной, значение - выполняемая строка, опционально передается перечень аргументов.\n",
    "Если набор аргументов не передан, то будет взят набор ключей словаря. Но словарь с производными может содержать не все производные. При попытке получить не заданную производную будет возвращен 0.\n",
    "\n",
    "2. Определить функции-переменные через Identity. Далее все операции проводить над ними, через доступный набор преобразований"
   ]
  },
  {
   "cell_type": "code",
   "execution_count": 3,
   "metadata": {},
   "outputs": [],
   "source": [
    "import numpy as np\n",
    "from LFlow.labos_flow_v2 import *\n",
    "#from LFlow.labos_point import Point"
   ]
  },
  {
   "cell_type": "code",
   "execution_count": 4,
   "metadata": {},
   "outputs": [],
   "source": [
    "\"\"\"\n",
    "примеры\n",
    "\"\"\"\n",
    "f1 = LabFunc('x1**2 - 2*x1*x2', derivatives={'x1': '2*x1 - 2*x2', 'x2' : '-2*x2'}, args=['x1', 'x2'])\n",
    "f2 = LabFunc('np.sin(t)', {'t' : 'np.cos(t)'})\n",
    "x1 = Identity('x1')\n",
    "x2 = Identity('x2')\n",
    "f3 = LabExp(x1+x2)\n"
   ]
  },
  {
   "cell_type": "markdown",
   "metadata": {},
   "source": [
    "Аргумент для LabFunc - словарь или Point. Point предпочтителен.\n",
    "\n",
    "Класс Point - обертка над словарем. Ключи словаря - имена переменных, значения - числа или numpy массивы. Numpy массив должен быть двумерным размера (n, 1), иначе лезут косяки с векторизацией.\n",
    "\n",
    "Точки поддерживают набор операций:\n",
    "\n",
    "1. Сложение точек. Результат - точка с объединенным набором координат, значения общих координат складываются, то есть можно сложить точку с координатами (x1, x2, x3) и (x1, x3)\n",
    "\n",
    "2. Вычитание точек\n",
    "\n",
    "3. Умножение на число слева и справа.\n",
    "\n",
    "4. Умножение на массив значений справа, т.е. Point*[1,2,3]. Результат - набор точек, умноженных на соответствующие числа, обратный порядок умножения приводит к нелепым результатам.\n",
    "\n",
    "5. Деление точки на число\n",
    "\n",
    "6. Вычисление L2-нормы\n",
    "\n",
    "7. Вычисление косинуса угла между точками (только по общим координатам)\n",
    "\n"
   ]
  },
  {
   "cell_type": "code",
   "execution_count": 5,
   "metadata": {},
   "outputs": [
    {
     "name": "stdout",
     "output_type": "stream",
     "text": [
      "p1+p2: {'x1': 3.0, 'x2': 4.0}\n",
      "p1.cos(p2): 0.98058067569092\n",
      "p1.norm(): 1.4142135623730951\n",
      "f3(p2): 148.4131591025766\n",
      "\n",
      "f3(sample2) [[2.71828183]\n",
      " [2.71828183]\n",
      " [2.71828183]\n",
      " [2.71828183]]\n"
     ]
    }
   ],
   "source": [
    "p1 = Point({'x1' : 1., 'x2' : 1.})\n",
    "p2 = Point({'x1' : 2., 'x2' : 3.})\n",
    "p3 = Point({'x1' : 0., 'x2' : 0.})\n",
    "sample = {'x1' : np.array([1,2,3,4,5,6]).reshape(6,1), 'x2' : np.array([1,2,3,4,5,6]).reshape(6,1)}\n",
    "sample2 = {'x1' : np.array([0,1,0,1]).reshape(4,1), 'x2' : np.array([1,0,1,0]).reshape(4,1)}\n",
    "print('p1+p2:', end=' ')\n",
    "print(p1+p2)\n",
    "print('p1.cos(p2):', end=' ')\n",
    "print(p1.cos(p2))\n",
    "print('p1.norm():', end=' ')\n",
    "print(p1.norm())\n",
    "print('f3(p2):', end=' ')\n",
    "print(f3(p2))\n",
    "print('')\n",
    "print('f3(sample2)', end=' ')\n",
    "print(f3(sample2))"
   ]
  },
  {
   "cell_type": "markdown",
   "metadata": {},
   "source": [
    "## Поддерживаемые операции и преобразования\n",
    "***\n",
    "**LabSum** - обертка над суммой произвольного числа функций. При сложении двух объектов LabFunc получается объект класса LabSum. При сложении LabSum с LabFunc или LabSum - аргументы объединяются, то есть граф вычислений становится не бинарным деревом.\n",
    "\n",
    "LabSum(f1, f2, f3, ...)\n",
    "\n",
    "***\n",
    "**LabProd** - обертка над произведением произвольного числа функций. При умножение двух объектов LabFunc получается объект класса LabProd. При умножении LabProd с LabFunc или LabProd - аргументы объединяются, то есть граф вычислений становится не бинарным деревом.\n",
    "\n",
    "LabProd(f1, f2, f3, ...)\n",
    "\n",
    "***\n",
    "**LabMax, LabMin** - обертка над максимумом/минимумом произвольного числа функций. Производные не определены\n",
    "\n",
    "**LabSmoothmax, LabSmoothmin** - обертка над аппроксимацией максимума/минимума произвольного числа функций\n",
    "\n",
    "LabSmoothmax(f1, f2, ..., fn, theta=10)\n",
    "***\n",
    "\n",
    "**LabIndicator** - функция Хевисайда, производная везде будет равна нулю (сингулярность игнорируем)\n",
    "\n",
    "**LabSigmoid** - сигмоида, используется как дифференцируемое приближение индикатора\n",
    "\n",
    "LabSigmoid(f1, theta=10)\n",
    "\n",
    "***\n",
    "\n",
    "### Поддерживаемые нелинейные функции\n",
    "* LabSin\n",
    "* LabCos\n",
    "* LabExp\n",
    "* LabArctg - арктангенс\n",
    "* LabLog - натуральный логарифм\n",
    "\n"
   ]
  },
  {
   "cell_type": "markdown",
   "metadata": {},
   "source": [
    "### Градиент\n",
    "Градиент функции в точке - объект класса Point. Значит его можно складывать с точками и получать новые точки."
   ]
  },
  {
   "cell_type": "code",
   "execution_count": 6,
   "metadata": {},
   "outputs": [
    {
     "name": "stdout",
     "output_type": "stream",
     "text": [
      "f3.deriv(p1) {'x1': 7.38905609893065, 'x2': 7.38905609893065}\n",
      "f3.deriv(sample) {'x1': array([[7.38905610e+00],\n",
      "       [5.45981500e+01],\n",
      "       [4.03428793e+02],\n",
      "       [2.98095799e+03],\n",
      "       [2.20264658e+04],\n",
      "       [1.62754791e+05]]), 'x2': array([[7.38905610e+00],\n",
      "       [5.45981500e+01],\n",
      "       [4.03428793e+02],\n",
      "       [2.98095799e+03],\n",
      "       [2.20264658e+04],\n",
      "       [1.62754791e+05]])}\n"
     ]
    }
   ],
   "source": [
    "print('f3.deriv(p1)', end=' ')\n",
    "print(f3.deriv(p1))\n",
    "print('f3.deriv(sample)', end=' ')\n",
    "print(f3.deriv(sample))"
   ]
  },
  {
   "cell_type": "markdown",
   "metadata": {},
   "source": [
    "# Определения и постановки задач вероятностной оптимизации\n",
    "Пусть имеется функционал $\\Phi(u, X)$, где $u\\in R^n$ -- вектор управления, $X \\in R^m$ -- вектор случайных параметров. Будем считать, что $\\Phi(u, X)$ определяет случайные потери при заданном управлении. Распределение вектора случайных параметров будем считать абсолютно непрерывным, то есть имеющим плотность $f_X: R^m \\to 1$\n",
    "\n",
    "\n",
    "Введем в рассмотрение функцию вероятности и функцию квантили\n",
    "\\begin{gather}\n",
    "P_{\\varphi}(u) \\triangleq P\\{\\Phi(u, X) \\le \\varphi\\},\\\\\n",
    "q_{\\alpha}(u) \\triangleq \\min\\{\\varphi: P_{\\varphi}(u) \\ge \\alpha\\}\n",
    "\\end{gather}\n",
    "Исходя из физического смысла $\\Phi(u, X)$ будем рассматривать задачи максимизации функции вероятности и минимизации функции квантили\n",
    "\\begin{gather}\n",
    "u^* = argmax_{u\\in U}P_{\\varphi}(u),\\\\\n",
    "u^* = argmin_{u\\in U}q_{\\alpha}(u)\n",
    "\\end{gather}\n",
    "\n",
    "Одной из проблем, возникающих при решении этих задач, является отсутствие явного выражения для производных этих критериев, а для функции квантили - еще и отсутствие аналитического выражения для ее вычисления."
   ]
  },
  {
   "cell_type": "markdown",
   "metadata": {},
   "source": [
    "## Гладкая аппроксимация функции вероятности\n",
    "Все выкладки и доказательства можно посмотреть здесь\n",
    "http://www.mathnet.ru/links/377dc64419dd1d66b237c6d62cb2ea11/trspy1096.pdf\n",
    "\n",
    "Запишем вероятность в следующем виде\n",
    "$$\n",
    "P_{\\varphi}(u) = P\\{\\Phi(u, X) \\le \\varphi\\} = E\\left[I(\\varphi - \\Phi(u, X))\\right],\n",
    "$$\n",
    "где $I$ - функция Хевисайда. В случае абсолютно непрерывного распределения, при непосредственном дифференцировании этого выражения по $u$ или $\\varphi$ получим интеграл, включающий в себя дельта-функцию Дирака.\n",
    "\n",
    "Вместо этого, заменим функцию Хевисайда на ее гладкое приближение - сигмоиду:\n",
    "$$\n",
    "S_\\theta(x) = \\frac{1}{1+e^{-\\theta x}}\n",
    "$$\n",
    "Нетрудно показать, что $S_\\theta(x) \\to I(x)$ при $\\theta\\to\\infty$, для любого $x\\neq 0$.\n",
    "\n",
    "Введем приближенную функцию вероятности\n",
    "$$\n",
    "P^\\theta_{\\varphi}(u) = E\\left[S_\\theta(\\varphi - \\Phi(u, X))\\right]\n",
    "$$\n",
    "\n",
    "Доказано, что если $\\Phi(u,X)$ дифференцируема по компонентам вектора u, а также выполняется условие\n",
    "$$\n",
    "P(\\Phi(u, X) = \\varphi) = 0, \\forall \\varphi \n",
    "$$\n",
    "\n",
    "то\n",
    "\\begin{gather}\n",
    "P^\\theta_{\\varphi}(u) \\to P_{\\varphi}(u) \\mbox{ при } \\theta\\to\\infty,\\\\\n",
    "\\frac{\\partial}{\\partial u_i}P^\\theta_{\\varphi}(u) \\to \\frac{\\partial}{\\partial u_i}P_{\\varphi}(u) \\mbox{ при } \\theta\\to\\infty,\\\\\n",
    "\\frac{\\partial}{\\partial \\varphi}P^\\theta_{\\varphi}(u) \\to \\frac{\\partial}{\\partial \\varphi}P_{\\varphi}(u) \\mbox{ при } \\theta\\to\\infty\n",
    "\\end{gather}\n",
    "\n",
    "При этом\n",
    "$$\n",
    "\\frac{\\partial}{\\partial u_i}P^\\theta_{\\varphi}(u) = E\\left[-\\theta S_\\theta(\\varphi - \\Phi(u, X))(1-S_\\theta(\\varphi - \\Phi(u, X)))\\frac{\\partial}{\\partial u_i}\\Phi(u, X)\\right]\n",
    "$$\n",
    "$$\n",
    "\\frac{\\partial}{\\partial \\varphi}P^\\theta_{\\varphi}(u) = E\\left[\\theta S_\\theta(\\varphi - \\Phi(u, X))(1-S_\\theta(\\varphi - \\Phi(u, X)))\\right]\n",
    "$$"
   ]
  },
  {
   "cell_type": "markdown",
   "metadata": {},
   "source": [
    "## Гладкая аппроксимация функции квантили\n",
    "Для функции квантили явного выражения в общем виде как не было, так и нет. Но получены аппроксимации ее производных, при тех же условиях. \n",
    "\n",
    "По управлению\n",
    "$$\n",
    "\\frac{\\partial}{\\partial u_i}q^\\theta_{\\alpha}(u) = \\frac{E\\left[\\theta S_\\theta(q^\\theta_{\\alpha}(u) - \\Phi(u, X))(1-S_\\theta(q^\\theta_{\\alpha}(u) - \\Phi(u, X)))\\frac{\\partial}{\\partial u_i}\\Phi(u, X)\\right]}{E\\left[\\theta S_\\theta(q^\\theta_{\\alpha}(u) - \\Phi(u, X))(1-S_\\theta(q^\\theta_{\\alpha}(u) - \\Phi(u, X)))\\right]}\n",
    "$$\n",
    "\n",
    "По уровню вероятности\n",
    "$$\n",
    "\\frac{\\partial}{\\partial \\alpha}q^\\theta_{\\alpha}(u) = \\frac{1}{E\\left[\\theta S_\\theta(q^\\theta_{\\alpha}(u) - \\Phi(u, X))(1-S_\\theta(q^\\theta_{\\alpha}(u) - \\Phi(u, X)))\\right]}\n",
    "$$"
   ]
  },
  {
   "cell_type": "markdown",
   "metadata": {},
   "source": [
    "# Аппроксимация максимума и минимума\n",
    "В некоторых задачах, функция потерь представляется как максимум из набора линейных функций (см. работы Иванов/Наумов/Кибзун)\n",
    "$$\n",
    "\\Phi(u, X) = \\max\\limits_{i=1,\\ldots,n}\\{A_i^Tu + B_i^TX + c_i\\}\n",
    "$$\n",
    "Такая функция не является гладкой. Но ее можно сгладить и сделать всюду дифференцируемой, если перейти к преобразованию гладкого максимума (smooth maximum)"
   ]
  },
  {
   "cell_type": "markdown",
   "metadata": {},
   "source": [
    "Формулы для максимума и минимума двух функций:\n",
    "\\begin{equation}\n",
    "softmax(f_1(x), f_2(x)) = \\frac{f_1(x)e^{\\theta f_1(x)} + f_2(x)e^{\\theta f_2(x)}}{e^{\\theta f_1(x)} + e^{\\theta f_2(x)}}\n",
    "\\end{equation}\n",
    "\\begin{equation}\n",
    "softmin(f_1(x), f_2(x)) = \\frac{f_1(x)e^{-\\theta f_1(x)} + f_2(x)e^{-\\theta f_2(x)}}{e^{-\\theta f_1(x)} + e^{-\\theta f_2(x)}}\n",
    "\\end{equation}\n",
    "\n",
    "На случай 3 и более функций обобщается непосредственно: добавляются слагаемые в числитель и знаменатель.\n",
    "\n",
    "### Производные\n",
    "По-хорошему, производную максимума нужно аппроксимировать как\n",
    "\\begin{equation}\n",
    "\\frac{d}{dx}\\max(f_1(x), f_2(x)) = \n",
    "\\frac{f'_1(x)e^{\\theta f_1(x)} + f'_2(x)e^{\\theta f_2(x)}}\n",
    "{e^{\\theta f_1(x)} + e^{\\theta f_2(x)}}\n",
    "\\end{equation}\n",
    "Но это не является производной гладкого максимума."
   ]
  },
  {
   "cell_type": "markdown",
   "metadata": {},
   "source": [
    "Если посчитать в явном виде производную softmax, получим\n",
    "\\begin{multline}\n",
    "\\frac{d}{dx}softmax(f_1(x), f_2(x)) = \\frac{f'_1(x)e^{\\theta f_1(x)} + f'_2(x)e^{\\theta f_2(x)}}\n",
    "{e^{\\theta f_1(x)} + e^{\\theta f_2(x)}} +\n",
    "\\theta e^{\\theta f_1(x)}e^{\\theta f_2(x)}\n",
    "\\frac{\\left(f'_1(x) - f'_2(x)\\right)(f_1(x)-f_2(x))}\n",
    "{\\left(e^{\\theta f_1(x)} + e^{\\theta f_2(x)}\\right)^2}\n",
    "\\end{multline}\n"
   ]
  },
  {
   "cell_type": "markdown",
   "metadata": {},
   "source": [
    "Первое слагаемое в точности совпадает со сглаженной производной максимума. Второе слагаемое стремится к нулю при $\\theta\\to\\infty$. "
   ]
  },
  {
   "cell_type": "code",
   "execution_count": 7,
   "metadata": {},
   "outputs": [],
   "source": [
    "theta = 5\n",
    "\n",
    "x = Identity('x')\n",
    "\n",
    "fun1 = LabSin(x)\n",
    "fun2 = LabCos(x)\n",
    "\n",
    "hardmax = LabMax(fun1, fun2)\n",
    "softmax = LabSmoothmax(fun1, fun2, theta=theta)\n",
    "\n"
   ]
  },
  {
   "cell_type": "code",
   "execution_count": 8,
   "metadata": {},
   "outputs": [
    {
     "data": {
      "image/png": "[encoded data removed]",
      "text/plain": [
       "<Figure size 432x288 with 2 Axes>"
      ]
     },
     "metadata": {
      "needs_background": "light"
     },
     "output_type": "display_data"
    }
   ],
   "source": [
    "xs = Point({'x' : np.arange(-3, 3, 0.01).reshape(-1,1)})\n",
    "hard = hardmax(xs)\n",
    "soft = softmax(xs)\n",
    "soft_d = softmax.deriv(xs)['x']\n",
    "    \n",
    "ax1 = plt.subplot(1,2,1)\n",
    "ax1.plot(xs['x'], hard)\n",
    "ax1.plot(xs['x'], soft)\n",
    "ax2 = plt.subplot(1,2,2)\n",
    "#ax2.plot(xs, hard_d)\n",
    "ax2.plot(xs['x'], soft_d)\n",
    "plt.show()"
   ]
  },
  {
   "cell_type": "code",
   "execution_count": null,
   "metadata": {},
   "outputs": [],
   "source": []
  }
 ],
 "metadata": {
  "kernelspec": {
   "display_name": "Python 3",
   "language": "python",
   "name": "python3"
  },
  "language_info": {
   "codemirror_mode": {
    "name": "ipython",
    "version": 3
   },
   "file_extension": ".py",
   "mimetype": "text/x-python",
   "name": "python",
   "nbconvert_exporter": "python",
   "pygments_lexer": "ipython3",
   "version": "3.7.1"
  }
 },
 "nbformat": 4,
 "nbformat_minor": 2
}
